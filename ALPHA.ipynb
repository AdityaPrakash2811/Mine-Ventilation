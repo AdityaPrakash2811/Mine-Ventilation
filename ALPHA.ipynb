{
 "cells": [
  {
   "cell_type": "code",
   "execution_count": 49,
   "metadata": {},
   "outputs": [],
   "source": [
    "import pandas as pd\n",
    "import numpy as np\n",
    "import matplotlib as mpl\n",
    "import matplotlib.pyplot as plt\n",
    "import networkx as nx\n",
    "import sys\n",
    "import math"
   ]
  },
  {
   "cell_type": "code",
   "execution_count": 114,
   "metadata": {},
   "outputs": [],
   "source": [
    "df = pd.read_excel(\"pp.xlsx\")"
   ]
  },
  {
   "cell_type": "code",
   "execution_count": 115,
   "metadata": {},
   "outputs": [],
   "source": [
    "nodes = list(df['J1'].unique())\n",
    "G = nx.MultiDiGraph()\n",
    "G.add_nodes_from(nodes)\n",
    "edges = list(zip(list(df['J1']),list(df['J2']),list(df['Quantity'])))"
   ]
  },
  {
   "cell_type": "code",
   "execution_count": 116,
   "metadata": {},
   "outputs": [],
   "source": [
    "G.add_weighted_edges_from(edges)"
   ]
  },
  {
   "cell_type": "code",
   "execution_count": 117,
   "metadata": {},
   "outputs": [],
   "source": [
    "iq_list = []\n",
    "iq = 0\n",
    "for i in nodes:\n",
    "    for j in G.predecessors(i):\n",
    "        edge_dict = G.get_edge_data(j,i)\n",
    "        for k in range(0, G.number_of_edges(j,i)):\n",
    "            iq = iq + edge_dict[k]['weight']\n",
    "    iq_list.append(iq);\n",
    "    iq = 0\n",
    "for i in range(len(iq_list)):\n",
    "    iq_list[i] = round(iq_list[i],3)\n",
    "\n",
    "iq_dict = dict(zip(nodes,iq_list))\n",
    "#iq_dict\n"
   ]
  },
  {
   "cell_type": "code",
   "execution_count": 118,
   "metadata": {},
   "outputs": [
    {
     "name": "stdout",
     "output_type": "stream",
     "text": [
      "Enter branch no...156\n",
      "Enter new quantity...140\n",
      "115 117\n",
      "{0: {'weight': 140.0}}\n"
     ]
    }
   ],
   "source": [
    "br = int(input(\"Enter branch no...\"))\n",
    "changed_q = float(input(\"Enter new quantity...\"))\n",
    "a = df.iloc[br-1]['J1']\n",
    "b = df.iloc[br-1]['J2']\n",
    "q = df.iloc[br-1]['Quantity']\n",
    "my_dict = G.get_edge_data(a,b)\n",
    "for i in range(0,G.number_of_edges(a,b)):\n",
    "    if(my_dict[i]['weight']==q):\n",
    "        k=i\n",
    "print(a,b)\n",
    "my_dict[k]['weight'] = changed_q\n",
    "print(G.get_edge_data(a,b))"
   ]
  },
  {
   "cell_type": "code",
   "execution_count": 119,
   "metadata": {},
   "outputs": [],
   "source": [
    "#fwd_redistribution\n",
    "def fwd_final_quant(t2):\n",
    "    tq = 0\n",
    "    for i in G.predecessors(t2):\n",
    "        edge_dict = G.get_edge_data(i,t2)\n",
    "        for j in range(0, G.number_of_edges(i,t2)):\n",
    "            tq = tq + edge_dict[j]['weight']\n",
    "    return tq"
   ]
  },
  {
   "cell_type": "code",
   "execution_count": 120,
   "metadata": {},
   "outputs": [],
   "source": [
    "#fwd_redistribution\n",
    "def fwd_redistribution(t1,t2):\n",
    "    iq = iq_dict[t2]\n",
    "    fq = fwd_final_quant(t2)\n",
    "    for i in G.successors(t2):\n",
    "        re_dict = G.get_edge_data(t2,i)\n",
    "        for j in range(0, G.number_of_edges(t2,i)):\n",
    "            re_dict[j]['weight'] = ((re_dict[j]['weight'])*(fq/iq))\n",
    "            #if G.get_edge_data(12,1)[0]['weight']>sys.float_info.max:\n",
    "                #G.get_edge_data(12,1)[0]['weight']=math.floor(sys.float_info.max)"
   ]
  },
  {
   "cell_type": "code",
   "execution_count": 121,
   "metadata": {},
   "outputs": [
    {
     "name": "stdout",
     "output_type": "stream",
     "text": [
      "115 117\n",
      "117 120\n",
      "120 28\n",
      "120 125\n",
      "28 36\n",
      "125 13\n",
      "36 45\n",
      "13 21\n",
      "45 54\n",
      "21 28\n",
      "54 60\n",
      "28 36\n",
      "60 68\n",
      "60 69\n",
      "36 45\n",
      "68 77\n",
      "69 48\n",
      "45 54\n",
      "77 69\n",
      "48 9\n",
      "54 60\n",
      "69 48\n",
      "60 68\n",
      "60 69\n",
      "48 9\n",
      "68 77\n",
      "69 48\n",
      "77 69\n",
      "48 9\n",
      "69 48\n",
      "48 9\n"
     ]
    }
   ],
   "source": [
    "#fwd_redistribution\n",
    "t1 = a\n",
    "t2 = b\n",
    "destination = [b]\n",
    "source = [a]\n",
    "while(len(destination) != 0):\n",
    "    t1 = source[0]\n",
    "    t2 = destination[0]\n",
    "    for i in G.successors(t2):\n",
    "        if t2 in [9,12,39]:\n",
    "            break\n",
    "        destination.append(i)\n",
    "        source.append(t2)\n",
    "    \n",
    "    fwd_redistribution(source.pop(0), destination.pop(0))\n",
    "    print(t1,t2)\n",
    "    #print(destination)"
   ]
  },
  {
   "cell_type": "code",
   "execution_count": 138,
   "metadata": {},
   "outputs": [
    {
     "data": {
      "text/plain": [
       "1109.0729806635895"
      ]
     },
     "execution_count": 138,
     "metadata": {},
     "output_type": "execute_result"
    }
   ],
   "source": [
    "G.get_edge_data(109,114)[0]['weight']"
   ]
  },
  {
   "cell_type": "code",
   "execution_count": 127,
   "metadata": {},
   "outputs": [
    {
     "name": "stdout",
     "output_type": "stream",
     "text": [
      "115 117\n",
      "109 115\n",
      "114 115\n",
      "103 109\n",
      "109 114\n",
      "98 103\n",
      "103 109\n",
      "91 98\n",
      "98 103\n",
      "81 91\n",
      "1 91\n",
      "91 98\n",
      "29 81\n",
      "1 81\n",
      "81 91\n",
      "1 91\n",
      "22 29\n",
      "29 81\n",
      "1 81\n",
      "14 22\n",
      "1 22\n",
      "22 29\n",
      "1 14\n",
      "14 22\n",
      "1 22\n",
      "1 14\n"
     ]
    }
   ],
   "source": [
    "#backward distribution\n",
    "t1 = a\n",
    "t2 = b\n",
    "destination = [b]\n",
    "source = [a]\n",
    "while(len(destination) != 0):\n",
    "    t1 = source[0]\n",
    "    t2 = destination[0]\n",
    "    for i in G.predecessors(t1):\n",
    "        if t1 in [1]:\n",
    "            break\n",
    "        destination.append(t1)\n",
    "        source.append(i)\n",
    "    \n",
    "    back_redistribution(source.pop(0),destination.pop(0))\n",
    "    print(t1,t2)\n",
    "    #print(destination)"
   ]
  },
  {
   "cell_type": "code",
   "execution_count": 125,
   "metadata": {},
   "outputs": [],
   "source": [
    "#back_redistribution\n",
    "def back_final_quant(t1):\n",
    "    tq = 0\n",
    "    for i in G.successors(t1):\n",
    "        edge_dict = G.get_edge_data(t1,i)\n",
    "        for j in range(0, G.number_of_edges(t1,i)):\n",
    "            tq = tq + edge_dict[j]['weight']\n",
    "    return tq"
   ]
  },
  {
   "cell_type": "code",
   "execution_count": 126,
   "metadata": {},
   "outputs": [],
   "source": [
    "#back_redistribution\n",
    "def back_redistribution(t1,t2):\n",
    "    iq = iq_dict[t1]\n",
    "    fq = back_final_quant(t1)\n",
    "    for i in G.predecessors(t1):\n",
    "        re_dict = G.get_edge_data(i,t1)\n",
    "        for j in range(0, G.number_of_edges(i,t1)):\n",
    "            re_dict[j]['weight'] = ((re_dict[j]['weight'])*(fq/iq))"
   ]
  },
  {
   "cell_type": "code",
   "execution_count": null,
   "metadata": {},
   "outputs": [],
   "source": []
  }
 ],
 "metadata": {
  "kernelspec": {
   "display_name": "Python 3",
   "language": "python",
   "name": "python3"
  },
  "language_info": {
   "codemirror_mode": {
    "name": "ipython",
    "version": 3
   },
   "file_extension": ".py",
   "mimetype": "text/x-python",
   "name": "python",
   "nbconvert_exporter": "python",
   "pygments_lexer": "ipython3",
   "version": "3.7.3"
  }
 },
 "nbformat": 4,
 "nbformat_minor": 2
}
